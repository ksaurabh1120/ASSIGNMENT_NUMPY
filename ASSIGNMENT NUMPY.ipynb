{
 "cells": [
  {
   "cell_type": "code",
   "execution_count": 1,
   "id": "0f38c046-cb5a-4277-942b-b3b183e5dd72",
   "metadata": {},
   "outputs": [
    {
     "data": {
      "text/plain": [
       "'1.23.5'"
      ]
     },
     "execution_count": 1,
     "metadata": {},
     "output_type": "execute_result"
    }
   ],
   "source": [
    "import numpy as np\n",
    "np.__version__\n"
   ]
  },
  {
   "cell_type": "code",
   "execution_count": 2,
   "id": "04047f7a-05ab-4225-af8b-4b367b6b4d55",
   "metadata": {},
   "outputs": [
    {
     "data": {
      "text/plain": [
       "numpy.ndarray"
      ]
     },
     "execution_count": 2,
     "metadata": {},
     "output_type": "execute_result"
    }
   ],
   "source": [
    "#1# Create a NumPy array 'arr' of integers from 0 to 5 and print its data type.\n",
    "l =[0,1,2,3,4,5]\n",
    "arr =np.array(l )\n",
    "arr\n",
    "type(arr)"
   ]
  },
  {
   "cell_type": "code",
   "execution_count": 3,
   "id": "0f47d67a-3018-4cd2-881a-e3c63bb49fdc",
   "metadata": {},
   "outputs": [
    {
     "name": "stdout",
     "output_type": "stream",
     "text": [
      "float64\n"
     ]
    }
   ],
   "source": [
    "#2# Given a NumPy array 'arr', check if its data type is float64.\n",
    "# arr = np.array([1.5, 2.6, 3.7])\n",
    "#\n",
    "arr = np.array([1.5, 2.6, 3.7])\n",
    "print(arr.dtype)"
   ]
  },
  {
   "cell_type": "code",
   "execution_count": 5,
   "id": "21454780-4f53-47d1-93e5-d1cb712d99e7",
   "metadata": {},
   "outputs": [
    {
     "data": {
      "text/plain": [
       "numpy.dtype[complex128]"
      ]
     },
     "execution_count": 5,
     "metadata": {},
     "output_type": "execute_result"
    }
   ],
   "source": [
    "#3# Create a NumPy array 'arr' with a data type of complex128 containing three complex numbers.\n",
    "arr=np.array([2+5j,2+3j,3-4j])\n",
    "type(arr.dtype)"
   ]
  },
  {
   "cell_type": "code",
   "execution_count": 6,
   "id": "84364729-fec8-4af3-877f-c068e1123d24",
   "metadata": {},
   "outputs": [
    {
     "data": {
      "text/plain": [
       "array([2.+5.j, 2.+3.j, 3.-4.j])"
      ]
     },
     "execution_count": 6,
     "metadata": {},
     "output_type": "execute_result"
    }
   ],
   "source": [
    "arr"
   ]
  },
  {
   "cell_type": "code",
   "execution_count": 7,
   "id": "e08ca1da-8f3c-4fbe-adb4-9bfce0887840",
   "metadata": {},
   "outputs": [
    {
     "name": "stderr",
     "output_type": "stream",
     "text": [
      "/tmp/ipykernel_362/2326252065.py:1: ComplexWarning: Casting complex values to real discards the imaginary part\n",
      "  arr=np.float32(np.float64(arr))\n"
     ]
    },
    {
     "data": {
      "text/plain": [
       "array([2., 2., 3.], dtype=float32)"
      ]
     },
     "execution_count": 7,
     "metadata": {},
     "output_type": "execute_result"
    }
   ],
   "source": [
    "arr=np.float32(np.float64(arr))\n",
    "arr"
   ]
  },
  {
   "cell_type": "code",
   "execution_count": 8,
   "id": "ddce3a3e-a0ce-471f-80b2-0bf45c6a0a3c",
   "metadata": {},
   "outputs": [
    {
     "data": {
      "text/plain": [
       "numpy.dtype[float32]"
      ]
     },
     "execution_count": 8,
     "metadata": {},
     "output_type": "execute_result"
    }
   ],
   "source": [
    "#5# Given a NumPy array 'arr'\n",
    "# with float64 data type, convert it to float32 to reduce decimal precision.\n",
    "arr= np.array([2.5498,5.7629,6.8792])\n",
    "arr=np.float32(np.float64(arr))\n",
    "type(arr.dtype)\n"
   ]
  },
  {
   "cell_type": "code",
   "execution_count": 9,
   "id": "ea8a9115-765d-4679-a45d-3b1db55f1e0c",
   "metadata": {},
   "outputs": [
    {
     "data": {
      "text/plain": [
       "array([3., 6., 7.], dtype=float32)"
      ]
     },
     "execution_count": 9,
     "metadata": {},
     "output_type": "execute_result"
    }
   ],
   "source": [
    "arr = (np.ceil(arr))\n",
    "arr"
   ]
  },
  {
   "cell_type": "code",
   "execution_count": 10,
   "id": "6f62c90c-0610-45cd-a249-ff9d21563b9b",
   "metadata": {},
   "outputs": [
    {
     "data": {
      "text/plain": [
       "(3, 3)"
      ]
     },
     "execution_count": 10,
     "metadata": {},
     "output_type": "execute_result"
    }
   ],
   "source": [
    "#6# Write a function array_attributes that takes a NumPy array as input\n",
    "# and returns its shape, size, and data type.\n",
    "arr=np.array([[3,4,6],[1,3,5],[7,9,8]])\n",
    "arr.shape"
   ]
  },
  {
   "cell_type": "code",
   "execution_count": 11,
   "id": "738687d7-1524-4685-883c-d906deb25f2e",
   "metadata": {},
   "outputs": [
    {
     "data": {
      "text/plain": [
       "9"
      ]
     },
     "execution_count": 11,
     "metadata": {},
     "output_type": "execute_result"
    }
   ],
   "source": [
    "arr.size"
   ]
  },
  {
   "cell_type": "code",
   "execution_count": 12,
   "id": "3ec1fec6-8f75-4e6c-825b-ce062582cea4",
   "metadata": {},
   "outputs": [
    {
     "data": {
      "text/plain": [
       "numpy.dtype[int64]"
      ]
     },
     "execution_count": 12,
     "metadata": {},
     "output_type": "execute_result"
    }
   ],
   "source": [
    "type(arr.dtype)"
   ]
  },
  {
   "cell_type": "code",
   "execution_count": 13,
   "id": "b0f97ddd-7b66-415b-a35f-e5948d44318b",
   "metadata": {},
   "outputs": [
    {
     "data": {
      "text/plain": [
       "2"
      ]
     },
     "execution_count": 13,
     "metadata": {},
     "output_type": "execute_result"
    }
   ],
   "source": [
    "#7# Create a function array_dimension that takes a NumPy array as input\n",
    "# and returns its dimensionality\n",
    "arr=np.array([[3,4,6],[1,3,5],[7,9,8]])\n",
    "arr.ndim"
   ]
  },
  {
   "cell_type": "code",
   "execution_count": 14,
   "id": "4345ba06-f7ec-4c4d-8b14-14030ad5fcc9",
   "metadata": {},
   "outputs": [
    {
     "data": {
      "text/plain": [
       "3"
      ]
     },
     "execution_count": 14,
     "metadata": {},
     "output_type": "execute_result"
    }
   ],
   "source": [
    "arr=arr[np.newaxis,:]\n",
    "arr.ndim"
   ]
  },
  {
   "cell_type": "code",
   "execution_count": 15,
   "id": "a1d320b6-70ad-4792-9613-d7b48c00fc9d",
   "metadata": {},
   "outputs": [
    {
     "data": {
      "text/plain": [
       "array([[[3, 4, 6],\n",
       "        [1, 3, 5],\n",
       "        [7, 9, 8]]])"
      ]
     },
     "execution_count": 15,
     "metadata": {},
     "output_type": "execute_result"
    }
   ],
   "source": [
    "arr"
   ]
  },
  {
   "cell_type": "code",
   "execution_count": 16,
   "id": "d92bc5a0-0657-48d4-b63a-e7aae0130838",
   "metadata": {},
   "outputs": [
    {
     "data": {
      "text/plain": [
       "array([[3, 4, 6],\n",
       "       [1, 3, 5],\n",
       "       [7, 9, 8]])"
      ]
     },
     "execution_count": 16,
     "metadata": {},
     "output_type": "execute_result"
    }
   ],
   "source": [
    "#8# Design a function item_size_info that takes a NumPy array as input and returns the item size and the total\n",
    "#size in bytes.\n",
    "arr=np.array([[3,4,6],[1,3,5],[7,9,8]])\n",
    "arr"
   ]
  },
  {
   "cell_type": "code",
   "execution_count": 17,
   "id": "08a3ae0f-00a1-4a03-bc80-58566aac5061",
   "metadata": {},
   "outputs": [
    {
     "data": {
      "text/plain": [
       "8"
      ]
     },
     "execution_count": 17,
     "metadata": {},
     "output_type": "execute_result"
    }
   ],
   "source": [
    "arr.itemsize"
   ]
  },
  {
   "cell_type": "code",
   "execution_count": 18,
   "id": "dbc17173-4a6c-4f38-92f0-e8b04f7801b9",
   "metadata": {},
   "outputs": [
    {
     "data": {
      "text/plain": [
       "9"
      ]
     },
     "execution_count": 18,
     "metadata": {},
     "output_type": "execute_result"
    }
   ],
   "source": [
    "arr.size"
   ]
  },
  {
   "cell_type": "code",
   "execution_count": 19,
   "id": "f4010c1e-7fd0-464b-9520-464c88079ce2",
   "metadata": {},
   "outputs": [
    {
     "data": {
      "text/plain": [
       "72"
      ]
     },
     "execution_count": 19,
     "metadata": {},
     "output_type": "execute_result"
    }
   ],
   "source": [
    "arr.itemsize * arr.size"
   ]
  },
  {
   "cell_type": "code",
   "execution_count": 20,
   "id": "0c717ef6-8bb2-4ca2-9475-5392a1917fa0",
   "metadata": {},
   "outputs": [
    {
     "data": {
      "text/plain": [
       "array([[0, 1, 2],\n",
       "       [3, 4, 5],\n",
       "       [6, 7, 8]])"
      ]
     },
     "execution_count": 20,
     "metadata": {},
     "output_type": "execute_result"
    }
   ],
   "source": [
    "#9#  Create a function array_strides that takes a NumPy array as input\n",
    "# and returns the strides of the array\n",
    "arr=np.arange(9).reshape([3,3])\n",
    "arr"
   ]
  },
  {
   "cell_type": "code",
   "execution_count": 21,
   "id": "8b0a938c-2b5f-47f4-b123-8ba0eb4b3896",
   "metadata": {},
   "outputs": [
    {
     "data": {
      "text/plain": [
       "(24, 8)"
      ]
     },
     "execution_count": 21,
     "metadata": {},
     "output_type": "execute_result"
    }
   ],
   "source": [
    "arr.strides"
   ]
  },
  {
   "cell_type": "code",
   "execution_count": 22,
   "id": "b95c7609-de9a-4c67-bf19-a8ab0b906c8d",
   "metadata": {},
   "outputs": [
    {
     "data": {
      "text/plain": [
       "array([[2, 4, 6, 9],\n",
       "       [6, 8, 4, 6],\n",
       "       [9, 4, 2, 1]])"
      ]
     },
     "execution_count": 22,
     "metadata": {},
     "output_type": "execute_result"
    }
   ],
   "source": [
    "#10# Design a function shape_stride_relationship that takes a NumPy array as input\n",
    "#and returns the shape and strides of the array.\n",
    "arr=np.array([[2,4,6,9],[6,8,4,6],[9,4,2,1]])\n",
    "arr"
   ]
  },
  {
   "cell_type": "code",
   "execution_count": 23,
   "id": "5a6b9c4f-fadf-4946-bb18-6494105c14f0",
   "metadata": {},
   "outputs": [
    {
     "data": {
      "text/plain": [
       "(3, 4)"
      ]
     },
     "execution_count": 23,
     "metadata": {},
     "output_type": "execute_result"
    }
   ],
   "source": [
    "arr.shape"
   ]
  },
  {
   "cell_type": "code",
   "execution_count": 24,
   "id": "222cce5d-91ec-4d47-957a-91fdd55f7d42",
   "metadata": {},
   "outputs": [
    {
     "data": {
      "text/plain": [
       "(32, 8)"
      ]
     },
     "execution_count": 24,
     "metadata": {},
     "output_type": "execute_result"
    }
   ],
   "source": [
    "arr.strides"
   ]
  },
  {
   "cell_type": "code",
   "execution_count": 25,
   "id": "1af573ed-40c0-400d-8a98-07ea559c0557",
   "metadata": {},
   "outputs": [
    {
     "data": {
      "text/plain": [
       "array([0., 0., 0., 0., 0., 0., 0., 0., 0.])"
      ]
     },
     "execution_count": 25,
     "metadata": {},
     "output_type": "execute_result"
    }
   ],
   "source": [
    "#11#  Create a function `create_zeros_array` that takes an integer `n` as input and returns a NumPy array of\n",
    "#zeros with `n` elements.\n",
    "import numpy as np\n",
    "create_zeros_array = np.zeros(9)\n",
    "create_zeros_array"
   ]
  },
  {
   "cell_type": "code",
   "execution_count": 26,
   "id": "c156c2fd-3803-40f6-94ea-aa06432e4c96",
   "metadata": {},
   "outputs": [
    {
     "data": {
      "text/plain": [
       "array([[1., 1., 1.],\n",
       "       [1., 1., 1.]])"
      ]
     },
     "execution_count": 26,
     "metadata": {},
     "output_type": "execute_result"
    }
   ],
   "source": [
    "#12# Write a function `create_ones_matrix` that takes integers `rows` and `cols` as inputs and generates a 2D\n",
    "#NumPy array filled with ones of size `rows x cols`.\n",
    "create_ones_matrix = np.ones((2, 3))\n",
    "create_ones_matrix"
   ]
  },
  {
   "cell_type": "code",
   "execution_count": 27,
   "id": "f901f371-91d6-4f40-8cfb-0e60946fc74a",
   "metadata": {},
   "outputs": [
    {
     "data": {
      "text/plain": [
       "array([0, 2, 4, 6, 8])"
      ]
     },
     "execution_count": 27,
     "metadata": {},
     "output_type": "execute_result"
    }
   ],
   "source": [
    "#13# Write a function `generate_range_array` that takes three integers start, stop, and step as arguments and\n",
    "# creates a NumPy array with a range starting from `start`, ending at stop (exclusive), and with the specified `step`.\n",
    "\n",
    "generate_range_array=np.arange(0, 10, 2)\n",
    "generate_range_array"
   ]
  },
  {
   "cell_type": "code",
   "execution_count": 28,
   "id": "39fe3202-c03f-4953-8293-1cd7ff8bd2f8",
   "metadata": {},
   "outputs": [
    {
     "data": {
      "text/plain": [
       "array([1.5, 3. , 4.5])"
      ]
     },
     "execution_count": 28,
     "metadata": {},
     "output_type": "execute_result"
    }
   ],
   "source": [
    "#14# Design a function `generate_linear_space` that takes two floats `start`, `stop`, and an integer `num` as\n",
    "# arguments and generates a NumPy array with num equally spaced values between `start` and `stop` (inclusive).\n",
    "generate_linear_space=np.linspace(1.5, 4.5, 3)\n",
    "generate_linear_space"
   ]
  },
  {
   "cell_type": "code",
   "execution_count": 29,
   "id": "30ca4ea8-5fcd-4362-a549-beeb5e0b9f19",
   "metadata": {},
   "outputs": [
    {
     "data": {
      "text/plain": [
       "array([[1., 0., 0., 0.],\n",
       "       [0., 1., 0., 0.],\n",
       "       [0., 0., 1., 0.],\n",
       "       [0., 0., 0., 1.]])"
      ]
     },
     "execution_count": 29,
     "metadata": {},
     "output_type": "execute_result"
    }
   ],
   "source": [
    "#15#  Create a function `create_identity_matrix` that takes an integer `n` as input and generates a square\n",
    "# identity matrix of size `n x n` using `numpy.eye`.\n",
    "import numpy as np\n",
    "arr2=np.eye(4,4)\n",
    "arr2"
   ]
  },
  {
   "cell_type": "code",
   "execution_count": 30,
   "id": "8e4c65a9-bc70-4e71-a1e1-f8475ff46627",
   "metadata": {},
   "outputs": [
    {
     "data": {
      "text/plain": [
       "list"
      ]
     },
     "execution_count": 30,
     "metadata": {},
     "output_type": "execute_result"
    }
   ],
   "source": [
    "#16# Write a function that takes a Python list and converts it into a NumPy array\n",
    "list= [3,5,7,9]\n",
    "type(list )"
   ]
  },
  {
   "cell_type": "code",
   "execution_count": 31,
   "id": "2806eb0e-3658-4474-a7af-575a241a9dcd",
   "metadata": {},
   "outputs": [
    {
     "data": {
      "text/plain": [
       "array([3, 5, 7, 9])"
      ]
     },
     "execution_count": 31,
     "metadata": {},
     "output_type": "execute_result"
    }
   ],
   "source": [
    "list1=np.array(list)\n",
    "list1"
   ]
  },
  {
   "cell_type": "code",
   "execution_count": 32,
   "id": "60463007-d9b2-4ed7-8b09-48906e9d956a",
   "metadata": {},
   "outputs": [
    {
     "data": {
      "text/plain": [
       "numpy.ndarray"
      ]
     },
     "execution_count": 32,
     "metadata": {},
     "output_type": "execute_result"
    }
   ],
   "source": [
    "type(list1)"
   ]
  },
  {
   "cell_type": "code",
   "execution_count": 33,
   "id": "88611f61-84c5-4821-ba15-aab53f31dc6c",
   "metadata": {},
   "outputs": [
    {
     "name": "stdout",
     "output_type": "stream",
     "text": [
      "array : [2 4 6 8]\n"
     ]
    }
   ],
   "source": [
    "#17# Create a NumPy array and demonstrate the use of `numpy.view` to create a new array object with the\n",
    "#same data.\n",
    "A=np.array([2,4,6,8])\n",
    "print(\"array :\",A )"
   ]
  },
  {
   "cell_type": "code",
   "execution_count": 34,
   "id": "78a73e79-5714-4093-b0bf-ddb7f1594392",
   "metadata": {},
   "outputs": [
    {
     "name": "stdout",
     "output_type": "stream",
     "text": [
      "view: [2 4 6 8]\n"
     ]
    }
   ],
   "source": [
    "B=A.view()\n",
    "print(\"view:\",B)"
   ]
  },
  {
   "cell_type": "code",
   "execution_count": 35,
   "id": "de05b418-0b42-4499-a1db-d8bec82ffb25",
   "metadata": {},
   "outputs": [
    {
     "data": {
      "text/plain": [
       "array([2, 3, 4, 5, 6, 7, 8, 9])"
      ]
     },
     "execution_count": 35,
     "metadata": {},
     "output_type": "execute_result"
    }
   ],
   "source": [
    "#18# Write a function that takes two NumPy arrays and concatenates them along a specified axis.\n",
    "x=np.array([2,3,4,5])\n",
    "y=np.array([6,7,8,9])\n",
    "z=np.concatenate ([x,y ])\n",
    "z"
   ]
  },
  {
   "cell_type": "code",
   "execution_count": 36,
   "id": "117fc179-b802-4587-a27c-4c934f0f77e0",
   "metadata": {},
   "outputs": [
    {
     "data": {
      "text/plain": [
       "array([[0, 1, 2],\n",
       "       [3, 4, 5],\n",
       "       [6, 7, 8]])"
      ]
     },
     "execution_count": 36,
     "metadata": {},
     "output_type": "execute_result"
    }
   ],
   "source": [
    "#19# Create two NumPy arrays with different shapes and concatenate\n",
    "#them horizontally using `numpy concatenate             `.\n",
    "import numpy as np\n",
    "arr1=np.arange(9).reshape([3,3])\n",
    "arr2=np.arange(12).reshape([3,4])\n",
    "arr1"
   ]
  },
  {
   "cell_type": "code",
   "execution_count": 37,
   "id": "a4f3c3ee-35d0-456d-ad6a-64eb7246791f",
   "metadata": {},
   "outputs": [
    {
     "data": {
      "text/plain": [
       "array([[ 0,  1,  2,  3],\n",
       "       [ 4,  5,  6,  7],\n",
       "       [ 8,  9, 10, 11]])"
      ]
     },
     "execution_count": 37,
     "metadata": {},
     "output_type": "execute_result"
    }
   ],
   "source": [
    "arr2"
   ]
  },
  {
   "cell_type": "code",
   "execution_count": 38,
   "id": "be15a827-1123-4141-8714-aa25d76337f2",
   "metadata": {},
   "outputs": [
    {
     "data": {
      "text/plain": [
       "array([[ 0,  1,  2,  0,  1,  2,  3],\n",
       "       [ 3,  4,  5,  4,  5,  6,  7],\n",
       "       [ 6,  7,  8,  8,  9, 10, 11]])"
      ]
     },
     "execution_count": 38,
     "metadata": {},
     "output_type": "execute_result"
    }
   ],
   "source": [
    "np.hstack([arr1,arr2 ])"
   ]
  },
  {
   "cell_type": "code",
   "execution_count": 39,
   "id": "fd2ada7b-7ede-4b21-9935-a1035f21d004",
   "metadata": {},
   "outputs": [
    {
     "data": {
      "text/plain": [
       "array([[0],\n",
       "       [1],\n",
       "       [2]])"
      ]
     },
     "execution_count": 39,
     "metadata": {},
     "output_type": "execute_result"
    }
   ],
   "source": [
    "#20# Write a function that vertically stacks multiple NumPy arrays given as a list.\n",
    "arr1=np.arange(9).reshape([3,3])\n",
    "arr2=np.arange(3).reshape([3,1])\n",
    "arr2"
   ]
  },
  {
   "cell_type": "code",
   "execution_count": 40,
   "id": "233373ac-93c2-4b54-9a77-4d3c590bd47f",
   "metadata": {},
   "outputs": [
    {
     "data": {
      "text/plain": [
       "array([[0, 1, 2],\n",
       "       [3, 4, 5],\n",
       "       [6, 7, 8]])"
      ]
     },
     "execution_count": 40,
     "metadata": {},
     "output_type": "execute_result"
    }
   ],
   "source": [
    "arr1"
   ]
  },
  {
   "cell_type": "code",
   "execution_count": 41,
   "id": "bce055ad-99ea-422b-905d-70efb2f680f9",
   "metadata": {},
   "outputs": [
    {
     "data": {
      "text/plain": [
       "array([[ 0,  0,  0],\n",
       "       [ 3,  4,  5],\n",
       "       [12, 14, 16]])"
      ]
     },
     "execution_count": 41,
     "metadata": {},
     "output_type": "execute_result"
    }
   ],
   "source": [
    "arr1 * arr2"
   ]
  },
  {
   "cell_type": "code",
   "execution_count": 42,
   "id": "5d6ebab4-621b-478d-a8a8-95be91b5834d",
   "metadata": {},
   "outputs": [
    {
     "data": {
      "text/plain": [
       "array([3., 6., 9.])"
      ]
     },
     "execution_count": 42,
     "metadata": {},
     "output_type": "execute_result"
    }
   ],
   "source": [
    "#21#  Write a Python function using NumPy to create an array of integers within a specified range (inclusive)\n",
    "# with a given step size.\n",
    "array = np.linspace(3, 9, 3)\n",
    "array"
   ]
  },
  {
   "cell_type": "code",
   "execution_count": 43,
   "id": "d9cd1a0e-d684-4c0e-bc53-d7e9274133c9",
   "metadata": {},
   "outputs": [
    {
     "data": {
      "text/plain": [
       "array([0.        , 0.11111111, 0.22222222, 0.33333333, 0.44444444,\n",
       "       0.55555556, 0.66666667, 0.77777778, 0.88888889, 1.        ])"
      ]
     },
     "execution_count": 43,
     "metadata": {},
     "output_type": "execute_result"
    }
   ],
   "source": [
    "#22# Write a Python function using NumPy to generate an array of 10 equally spaced values between 0 and 1 (inclusive).\n",
    "array = np.linspace(0, 1, 10)\n",
    "array"
   ]
  },
  {
   "cell_type": "code",
   "execution_count": 44,
   "id": "99d3e865-b74b-4d32-a225-30f0cb027316",
   "metadata": {},
   "outputs": [
    {
     "data": {
      "text/plain": [
       "array([  10.        ,   31.6227766 ,  100.        ,  316.22776602,\n",
       "       1000.        ])"
      ]
     },
     "execution_count": 44,
     "metadata": {},
     "output_type": "execute_result"
    }
   ],
   "source": [
    "#23#  Write a Python function using NumPy to create an array of 5 logarithmically spaced values between 1 and 1000 (inclusive).\n",
    "\n",
    "arr=np.logspace(1, 3, num=5)\n",
    "arr"
   ]
  },
  {
   "cell_type": "code",
   "execution_count": 45,
   "id": "b3b05d39-5e57-47c9-8c29-999f07e15f00",
   "metadata": {},
   "outputs": [
    {
     "data": {
      "text/html": [
       "<div>\n",
       "<style scoped>\n",
       "    .dataframe tbody tr th:only-of-type {\n",
       "        vertical-align: middle;\n",
       "    }\n",
       "\n",
       "    .dataframe tbody tr th {\n",
       "        vertical-align: top;\n",
       "    }\n",
       "\n",
       "    .dataframe thead th {\n",
       "        text-align: right;\n",
       "    }\n",
       "</style>\n",
       "<table border=\"1\" class=\"dataframe\">\n",
       "  <thead>\n",
       "    <tr style=\"text-align: right;\">\n",
       "      <th></th>\n",
       "      <th>0</th>\n",
       "      <th>1</th>\n",
       "      <th>2</th>\n",
       "    </tr>\n",
       "  </thead>\n",
       "  <tbody>\n",
       "    <tr>\n",
       "      <th>0</th>\n",
       "      <td>50</td>\n",
       "      <td>54</td>\n",
       "      <td>21</td>\n",
       "    </tr>\n",
       "    <tr>\n",
       "      <th>1</th>\n",
       "      <td>66</td>\n",
       "      <td>41</td>\n",
       "      <td>1</td>\n",
       "    </tr>\n",
       "    <tr>\n",
       "      <th>2</th>\n",
       "      <td>74</td>\n",
       "      <td>37</td>\n",
       "      <td>7</td>\n",
       "    </tr>\n",
       "    <tr>\n",
       "      <th>3</th>\n",
       "      <td>71</td>\n",
       "      <td>31</td>\n",
       "      <td>86</td>\n",
       "    </tr>\n",
       "    <tr>\n",
       "      <th>4</th>\n",
       "      <td>29</td>\n",
       "      <td>28</td>\n",
       "      <td>32</td>\n",
       "    </tr>\n",
       "  </tbody>\n",
       "</table>\n",
       "</div>"
      ],
      "text/plain": [
       "    0   1   2\n",
       "0  50  54  21\n",
       "1  66  41   1\n",
       "2  74  37   7\n",
       "3  71  31  86\n",
       "4  29  28  32"
      ]
     },
     "execution_count": 45,
     "metadata": {},
     "output_type": "execute_result"
    }
   ],
   "source": [
    "#24# Create a Pandas DataFrame using a NumPy array that contains 5 rows and 3 columns, where the values\n",
    "#are random integers between 1 and 100.\n",
    "import numpy as np\n",
    "import pandas as pd\n",
    "data =np.random.randint(1,100, size =(5,3 ))\n",
    "df= pd.DataFrame(data)\n",
    "df"
   ]
  },
  {
   "cell_type": "code",
   "execution_count": 46,
   "id": "c2288605-9a5d-4dbb-8ab2-0a52380b8227",
   "metadata": {},
   "outputs": [
    {
     "data": {
      "text/html": [
       "<div>\n",
       "<style scoped>\n",
       "    .dataframe tbody tr th:only-of-type {\n",
       "        vertical-align: middle;\n",
       "    }\n",
       "\n",
       "    .dataframe tbody tr th {\n",
       "        vertical-align: top;\n",
       "    }\n",
       "\n",
       "    .dataframe thead th {\n",
       "        text-align: right;\n",
       "    }\n",
       "</style>\n",
       "<table border=\"1\" class=\"dataframe\">\n",
       "  <thead>\n",
       "    <tr style=\"text-align: right;\">\n",
       "      <th></th>\n",
       "      <th>0</th>\n",
       "      <th>1</th>\n",
       "      <th>2</th>\n",
       "    </tr>\n",
       "  </thead>\n",
       "  <tbody>\n",
       "    <tr>\n",
       "      <th>0</th>\n",
       "      <td>4</td>\n",
       "      <td>8</td>\n",
       "      <td>2</td>\n",
       "    </tr>\n",
       "    <tr>\n",
       "      <th>1</th>\n",
       "      <td>-1</td>\n",
       "      <td>2</td>\n",
       "      <td>9</td>\n",
       "    </tr>\n",
       "    <tr>\n",
       "      <th>2</th>\n",
       "      <td>9</td>\n",
       "      <td>2</td>\n",
       "      <td>5</td>\n",
       "    </tr>\n",
       "    <tr>\n",
       "      <th>3</th>\n",
       "      <td>-1</td>\n",
       "      <td>-1</td>\n",
       "      <td>-1</td>\n",
       "    </tr>\n",
       "    <tr>\n",
       "      <th>4</th>\n",
       "      <td>7</td>\n",
       "      <td>-1</td>\n",
       "      <td>3</td>\n",
       "    </tr>\n",
       "  </tbody>\n",
       "</table>\n",
       "</div>"
      ],
      "text/plain": [
       "   0  1  2\n",
       "0  4  8  2\n",
       "1 -1  2  9\n",
       "2  9  2  5\n",
       "3 -1 -1 -1\n",
       "4  7 -1  3"
      ]
     },
     "execution_count": 46,
     "metadata": {},
     "output_type": "execute_result"
    }
   ],
   "source": [
    "#25# Write a function that takes a Pandas DataFrame and replaces all negative values in a specific column\n",
    "# with zeros. Use NumPy operations within the Pandas DataFrame\n",
    "data =np.random.randint(-1,10, size =(5,3 ))\n",
    "df= pd.DataFrame(data)\n",
    "df\n"
   ]
  },
  {
   "cell_type": "code",
   "execution_count": 47,
   "id": "0311e633-7209-4e0b-93c5-b7dd71abd8fd",
   "metadata": {},
   "outputs": [
    {
     "data": {
      "text/html": [
       "<div>\n",
       "<style scoped>\n",
       "    .dataframe tbody tr th:only-of-type {\n",
       "        vertical-align: middle;\n",
       "    }\n",
       "\n",
       "    .dataframe tbody tr th {\n",
       "        vertical-align: top;\n",
       "    }\n",
       "\n",
       "    .dataframe thead th {\n",
       "        text-align: right;\n",
       "    }\n",
       "</style>\n",
       "<table border=\"1\" class=\"dataframe\">\n",
       "  <thead>\n",
       "    <tr style=\"text-align: right;\">\n",
       "      <th></th>\n",
       "      <th>0</th>\n",
       "      <th>1</th>\n",
       "      <th>2</th>\n",
       "    </tr>\n",
       "  </thead>\n",
       "  <tbody>\n",
       "    <tr>\n",
       "      <th>0</th>\n",
       "      <td>4</td>\n",
       "      <td>8</td>\n",
       "      <td>2</td>\n",
       "    </tr>\n",
       "    <tr>\n",
       "      <th>1</th>\n",
       "      <td>0</td>\n",
       "      <td>2</td>\n",
       "      <td>9</td>\n",
       "    </tr>\n",
       "    <tr>\n",
       "      <th>2</th>\n",
       "      <td>9</td>\n",
       "      <td>2</td>\n",
       "      <td>5</td>\n",
       "    </tr>\n",
       "    <tr>\n",
       "      <th>3</th>\n",
       "      <td>0</td>\n",
       "      <td>0</td>\n",
       "      <td>0</td>\n",
       "    </tr>\n",
       "    <tr>\n",
       "      <th>4</th>\n",
       "      <td>7</td>\n",
       "      <td>0</td>\n",
       "      <td>3</td>\n",
       "    </tr>\n",
       "  </tbody>\n",
       "</table>\n",
       "</div>"
      ],
      "text/plain": [
       "   0  1  2\n",
       "0  4  8  2\n",
       "1  0  2  9\n",
       "2  9  2  5\n",
       "3  0  0  0\n",
       "4  7  0  3"
      ]
     },
     "execution_count": 47,
     "metadata": {},
     "output_type": "execute_result"
    }
   ],
   "source": [
    "df.replace(-1,0)"
   ]
  },
  {
   "cell_type": "code",
   "execution_count": 48,
   "id": "62b87548-07a6-42e2-86ad-b4007a35b059",
   "metadata": {},
   "outputs": [
    {
     "data": {
      "text/plain": [
       "array([10, 20, 30, 40, 50])"
      ]
     },
     "execution_count": 48,
     "metadata": {},
     "output_type": "execute_result"
    }
   ],
   "source": [
    "#26# Access the 3rd element from the given NumPy array.\n",
    "# arr = np.array([10, 20, 30, 40, 50])\n",
    "arr = np.array([10, 20, 30, 40, 50])\n",
    "arr"
   ]
  },
  {
   "cell_type": "code",
   "execution_count": 49,
   "id": "db66d529-76e2-4b7e-8147-e8f523dd66e0",
   "metadata": {},
   "outputs": [
    {
     "data": {
      "text/plain": [
       "30"
      ]
     },
     "execution_count": 49,
     "metadata": {},
     "output_type": "execute_result"
    }
   ],
   "source": [
    "arr[2]"
   ]
  },
  {
   "cell_type": "code",
   "execution_count": 50,
   "id": "e9a6a407-9bbd-4311-8e06-e8505ff6df7d",
   "metadata": {},
   "outputs": [
    {
     "data": {
      "text/plain": [
       "array([[1, 2, 3],\n",
       "       [4, 5, 6],\n",
       "       [7, 8, 9]])"
      ]
     },
     "execution_count": 50,
     "metadata": {},
     "output_type": "execute_result"
    }
   ],
   "source": [
    "#27# Retrieve the element at index (1, 2) from the 2D NumPy array.\n",
    "arr_2d=np.array([[1,2,3],[4,5,6],[7,8,9]])\n",
    "arr_2d"
   ]
  },
  {
   "cell_type": "code",
   "execution_count": 51,
   "id": "e0a3bd9c-085d-41d9-bc73-77b9262c1e7f",
   "metadata": {},
   "outputs": [
    {
     "data": {
      "text/plain": [
       "array([1, 2, 3])"
      ]
     },
     "execution_count": 51,
     "metadata": {},
     "output_type": "execute_result"
    }
   ],
   "source": [
    "(arr_2d[0,])"
   ]
  },
  {
   "cell_type": "code",
   "execution_count": 52,
   "id": "7d5da8fd-939d-4fac-a362-b9f9be5fe7e6",
   "metadata": {},
   "outputs": [
    {
     "data": {
      "text/plain": [
       "array([4, 5, 6])"
      ]
     },
     "execution_count": 52,
     "metadata": {},
     "output_type": "execute_result"
    }
   ],
   "source": [
    "(arr_2d[1,])"
   ]
  },
  {
   "cell_type": "code",
   "execution_count": 53,
   "id": "ccd25375-d386-41f8-9b75-714d131ef672",
   "metadata": {},
   "outputs": [
    {
     "data": {
      "text/plain": [
       "array([ 3,  8,  2, 10,  5,  7])"
      ]
     },
     "execution_count": 53,
     "metadata": {},
     "output_type": "execute_result"
    }
   ],
   "source": [
    "#28# Using boolean indexing, extract elements greater than 5 from the given NumPy array.\n",
    "#arr = np.array([3, 8, 2, 10, 5, 7])\n",
    "arr = np.array([3,8,2,10,5,7])\n",
    "arr"
   ]
  },
  {
   "cell_type": "code",
   "execution_count": 54,
   "id": "acb3cc3e-c727-46b5-868c-88436703ef85",
   "metadata": {},
   "outputs": [
    {
     "data": {
      "text/plain": [
       "array([ True, False,  True, False, False, False])"
      ]
     },
     "execution_count": 54,
     "metadata": {},
     "output_type": "execute_result"
    }
   ],
   "source": [
    "arr<5"
   ]
  },
  {
   "cell_type": "code",
   "execution_count": 55,
   "id": "3101301d-a5c4-4bf5-945e-f672b0516a05",
   "metadata": {},
   "outputs": [
    {
     "data": {
      "text/plain": [
       "array([3, 4, 5, 6])"
      ]
     },
     "execution_count": 55,
     "metadata": {},
     "output_type": "execute_result"
    }
   ],
   "source": [
    "#29# Perform basic slicing to extract elements from index 2 to 5 (inclusive) from the given NumPy array.\n",
    "arr = np.array([1, 2, 3, 4, 5, 6, 7, 8, 9])\n",
    "(arr[2:6])"
   ]
  },
  {
   "cell_type": "code",
   "execution_count": 56,
   "id": "5abe6fb9-39c0-4a1d-99a6-8791ed91fc26",
   "metadata": {},
   "outputs": [
    {
     "data": {
      "text/plain": [
       "array([[1, 2, 3],\n",
       "       [4, 5, 6],\n",
       "       [7, 8, 9]])"
      ]
     },
     "execution_count": 56,
     "metadata": {},
     "output_type": "execute_result"
    }
   ],
   "source": [
    "#30# Slice the 2D NumPy array to extract the sub-array `[[2, 3], [5, 6]]` from the given array\n",
    "arr_2d=np.array([[1,2,3],[4,5,6],[7,8,9]])\n",
    "arr_2d"
   ]
  },
  {
   "cell_type": "code",
   "execution_count": 57,
   "id": "96f024f0-5df4-4417-9f80-978261cf52db",
   "metadata": {},
   "outputs": [
    {
     "data": {
      "text/plain": [
       "array([[2, 3],\n",
       "       [5, 6]])"
      ]
     },
     "execution_count": 57,
     "metadata": {},
     "output_type": "execute_result"
    }
   ],
   "source": [
    "arr_2d[0:2,1:3]"
   ]
  },
  {
   "cell_type": "code",
   "execution_count": 58,
   "id": "1954bd19-7eaa-4826-ae12-beb397d1ded0",
   "metadata": {},
   "outputs": [
    {
     "data": {
      "text/plain": [
       "array([7, 4, 8])"
      ]
     },
     "execution_count": 58,
     "metadata": {},
     "output_type": "execute_result"
    }
   ],
   "source": [
    "#31# Write a NumPy function to extract elements in specific order from a given 2D array based on indices\n",
    "# provided in another array\n",
    "\n",
    "arr_1=np.array([7,2,4,6,8,9])\n",
    "indices =np.array([0,2,4])\n",
    "np.take(arr_1,indices)\n"
   ]
  },
  {
   "cell_type": "code",
   "execution_count": 59,
   "id": "7fab30b5-a83e-4c40-86df-aa59886968c5",
   "metadata": {},
   "outputs": [
    {
     "data": {
      "text/plain": [
       "array([ True, False, False,  True, False,  True, False, False,  True])"
      ]
     },
     "execution_count": 59,
     "metadata": {},
     "output_type": "execute_result"
    }
   ],
   "source": [
    "#32# Create a NumPy function that filters elements greater than a threshold from a given 1D array using\n",
    "# boolean indexing\n",
    "arr_A= np.array([23,3,7,45,8,16,9,5,40])\n",
    "arr_A>10"
   ]
  },
  {
   "cell_type": "code",
   "execution_count": 60,
   "id": "fd6052c3-2abb-4c31-83d8-b6f1a76325b3",
   "metadata": {},
   "outputs": [
    {
     "data": {
      "text/plain": [
       "array([[[3, 5, 7],\n",
       "        [4, 6, 8],\n",
       "        [1, 3, 9]],\n",
       "\n",
       "       [[2, 3, 6],\n",
       "        [3, 4, 7],\n",
       "        [4, 5, 8]]])"
      ]
     },
     "execution_count": 60,
     "metadata": {},
     "output_type": "execute_result"
    }
   ],
   "source": [
    "#33# Develop a NumPy function that extracts specific elements from a 3D array using indices provided in three\n",
    "#separate arrays for each dimension.\n",
    "arr_3d=np.array([[[3,5,7],[4,6,8],[1,3,9]],[[2,3,6],[3,4,7],[4,5,8]]])\n",
    "arr_3d"
   ]
  },
  {
   "cell_type": "code",
   "execution_count": 61,
   "id": "a3b72713-4d3c-41bc-8944-dc975d528596",
   "metadata": {},
   "outputs": [
    {
     "data": {
      "text/plain": [
       "array([[[3, 5],\n",
       "        [4, 6]]])"
      ]
     },
     "execution_count": 61,
     "metadata": {},
     "output_type": "execute_result"
    }
   ],
   "source": [
    "arr_3d[:1,0:2,0:2]"
   ]
  },
  {
   "cell_type": "code",
   "execution_count": 62,
   "id": "60b40ab4-3f8c-4679-a061-70f257c7f962",
   "metadata": {},
   "outputs": [
    {
     "data": {
      "text/plain": [
       "array([[ True, False, False],\n",
       "       [False,  True, False],\n",
       "       [False, False,  True]])"
      ]
     },
     "execution_count": 62,
     "metadata": {},
     "output_type": "execute_result"
    }
   ],
   "source": [
    "#34# Write a NumPy function that returns elements from an array where both two conditions are satisfied\n",
    "# using boolean indexing.\n",
    "import numpy as np\n",
    "np.fromfunction(lambda i,j :i==j,(3,3))"
   ]
  },
  {
   "cell_type": "code",
   "execution_count": 63,
   "id": "f660b8a1-992c-4c86-ac0d-ae731ff8427e",
   "metadata": {},
   "outputs": [
    {
     "data": {
      "text/plain": [
       "array([[ 0,  1,  2,  3,  4],\n",
       "       [ 5,  6,  7,  8,  9],\n",
       "       [10, 11, 12, 13, 14],\n",
       "       [15, 16, 17, 18, 19]])"
      ]
     },
     "execution_count": 63,
     "metadata": {},
     "output_type": "execute_result"
    }
   ],
   "source": [
    "#35#Create a NumPy function that extracts elements from a 2D array using row and column indices provided\n",
    "# in separate arrays.\n",
    "arr_in=np.arange(20).reshape(4,5)\n",
    "arr_in"
   ]
  },
  {
   "cell_type": "code",
   "execution_count": 64,
   "id": "3c407505-befa-45b1-8ab5-4d3c2fed133c",
   "metadata": {},
   "outputs": [
    {
     "data": {
      "text/plain": [
       "array([[0, 2],\n",
       "       [1, 3]])"
      ]
     },
     "execution_count": 64,
     "metadata": {},
     "output_type": "execute_result"
    }
   ],
   "source": [
    "ind=np.array([[0,2],[1,3]])\n",
    "ind"
   ]
  },
  {
   "cell_type": "code",
   "execution_count": 65,
   "id": "969f19a5-9955-4da6-a0c8-ea3ac83982d3",
   "metadata": {},
   "outputs": [
    {
     "data": {
      "text/plain": [
       "array([2, 8])"
      ]
     },
     "execution_count": 65,
     "metadata": {},
     "output_type": "execute_result"
    }
   ],
   "source": [
    "arr_in[ind[:,0],ind[:,1]]"
   ]
  },
  {
   "cell_type": "code",
   "execution_count": 66,
   "id": "8408479a-fb0c-42ec-83b3-1db1a5257abb",
   "metadata": {},
   "outputs": [
    {
     "data": {
      "text/plain": [
       "array([[0, 1, 2],\n",
       "       [3, 4, 5],\n",
       "       [6, 7, 8]])"
      ]
     },
     "execution_count": 66,
     "metadata": {},
     "output_type": "execute_result"
    }
   ],
   "source": [
    "#36# Given an array arr of shape (3, 3), add a scalar value of 5 to each element using NumPy broadcasting.\n",
    "import numpy as np\n",
    "arr1=np.arange(9).reshape([3,3])\n",
    "arr1"
   ]
  },
  {
   "cell_type": "code",
   "execution_count": 67,
   "id": "d9b46897-f48d-4a69-b4f6-b8824b0b8267",
   "metadata": {},
   "outputs": [
    {
     "data": {
      "text/plain": [
       "array([[ 5,  6,  7],\n",
       "       [ 8,  9, 10],\n",
       "       [11, 12, 13]])"
      ]
     },
     "execution_count": 67,
     "metadata": {},
     "output_type": "execute_result"
    }
   ],
   "source": [
    "arr1 +5"
   ]
  },
  {
   "cell_type": "code",
   "execution_count": 68,
   "id": "ce0bcddf-7cb5-45cd-801c-27592800c6ac",
   "metadata": {},
   "outputs": [
    {
     "data": {
      "text/plain": [
       "array([[ 0,  0,  0,  0],\n",
       "       [ 4,  5,  6,  7],\n",
       "       [16, 18, 20, 22]])"
      ]
     },
     "execution_count": 68,
     "metadata": {},
     "output_type": "execute_result"
    }
   ],
   "source": [
    "#37# Consider two arrays arr1 of shape (1, 3) and arr2 of shape (3, 4). Multiply each row of arr2 by the\n",
    "#corresponding element in arr1 using NumPy broadcasting\n",
    "arr1=np.arange(3).reshape(1,3)\n",
    "arr2=np.arange(12).reshape(3,4)\n",
    "arr1.T *arr2"
   ]
  },
  {
   "cell_type": "code",
   "execution_count": 69,
   "id": "84a369be-8ea7-4c91-ae3b-a931b4249846",
   "metadata": {},
   "outputs": [
    {
     "data": {
      "text/plain": [
       "array([[ 5,  8, 11, 14],\n",
       "       [ 3,  7, 11, 15],\n",
       "       [ 2,  5,  8, 11]])"
      ]
     },
     "execution_count": 69,
     "metadata": {},
     "output_type": "execute_result"
    }
   ],
   "source": [
    "#38# Given a 1D array arr1 of shape (1, 4) and a 2D array arr2 of shape (4, 3), add arr1 to each row of arr2 using\n",
    "#NumPy broadcasting\n",
    "arr1 =np  .array([2,4,6,8])\n",
    "arr2=np.array([[3,4,5,6],[1,3,5,7],[0,1,2,3]])\n",
    "arr1 + arr2"
   ]
  },
  {
   "cell_type": "code",
   "execution_count": 70,
   "id": "1e4977b8-88e7-49e2-887b-05babe2aba22",
   "metadata": {},
   "outputs": [
    {
     "data": {
      "text/plain": [
       "array([[2, 3, 4],\n",
       "       [2, 3, 4],\n",
       "       [4, 5, 6]])"
      ]
     },
     "execution_count": 70,
     "metadata": {},
     "output_type": "execute_result"
    }
   ],
   "source": [
    "#39# Consider two arrays arr1 of shape (3, 1) and arr2 of shape (1, 3). Add these arrays using NumPy\n",
    "# broadcasting\n",
    "arr1 =np.random.randint(1,4,(3,1))\n",
    "arr2  =np.random.randint(1,4,(1,3))\n",
    "arr1  + arr2"
   ]
  },
  {
   "cell_type": "code",
   "execution_count": 71,
   "id": "07119775-1868-4cb4-a09c-acacdcdbd63f",
   "metadata": {},
   "outputs": [
    {
     "name": "stdout",
     "output_type": "stream",
     "text": [
      "[[2 7 8]\n",
      " [8 8 5]] [[3 1]\n",
      " [3 4]] [[2 7]\n",
      " [8 8]\n",
      " [8 5]]\n"
     ]
    }
   ],
   "source": [
    "#40# Given arrays arr1 of shape (2, 3) and arr2 of shape (2, 2), perform multiplication using NumPy\n",
    "# broadcasting. Handle the shape incompatibility.\n",
    "import numpy as np\n",
    "arr1 =np.random.randint(1,9,(2,3))\n",
    "arr2  =np.random.randint(1,9,(2,2))\n",
    "arr3=np.reshape(arr1,(3,2))\n",
    "print(arr1,arr2,arr3)"
   ]
  },
  {
   "cell_type": "code",
   "execution_count": 72,
   "id": "00fbb5c6-30c4-4457-9316-579a811a1399",
   "metadata": {},
   "outputs": [
    {
     "data": {
      "text/plain": [
       "array([[27, 30],\n",
       "       [48, 40],\n",
       "       [39, 28]])"
      ]
     },
     "execution_count": 72,
     "metadata": {},
     "output_type": "execute_result"
    }
   ],
   "source": [
    "arr3 @arr2"
   ]
  },
  {
   "cell_type": "code",
   "execution_count": 73,
   "id": "db0c54be-4236-4e7d-ae77-12fb120b15ed",
   "metadata": {},
   "outputs": [
    {
     "data": {
      "text/plain": [
       "array([2.5, 3.5, 4.5])"
      ]
     },
     "execution_count": 73,
     "metadata": {},
     "output_type": "execute_result"
    }
   ],
   "source": [
    "#41# Calculate column wise mean for the given array:\n",
    "# arr = np.array([[1, 2, 3], [4, 5, 6]])\n",
    "arr = np.array([[1, 2, 3], [4, 5, 6]])\n",
    "np.mean(arr,axis=0)"
   ]
  },
  {
   "cell_type": "code",
   "execution_count": 74,
   "id": "649c05bc-960d-4808-b61d-025d5d181572",
   "metadata": {},
   "outputs": [
    {
     "data": {
      "text/plain": [
       "array([3, 6])"
      ]
     },
     "execution_count": 74,
     "metadata": {},
     "output_type": "execute_result"
    }
   ],
   "source": [
    "#42# Find maximum value in each row of the given array\n",
    "# arr = np.array([[1, 2, 3], [4, 5, 6]])\n",
    "np.max(arr,axis=1)"
   ]
  },
  {
   "cell_type": "code",
   "execution_count": 75,
   "id": "1355621e-5a47-424c-9d58-30de55591ae2",
   "metadata": {},
   "outputs": [
    {
     "data": {
      "text/plain": [
       "array([1, 1, 1])"
      ]
     },
     "execution_count": 75,
     "metadata": {},
     "output_type": "execute_result"
    }
   ],
   "source": [
    "#43# For the given array, find indices of maximum value in each column\n",
    "# arr = np.array([[1, 2, 3], [4, 5, 6]])\n",
    "arr = np.array([[1, 2, 3], [4, 5, 6]])\n",
    "arr_index=arr .argmax(0)\n",
    "arr_index"
   ]
  },
  {
   "cell_type": "code",
   "execution_count": 76,
   "id": "2b4ddd69-5059-400d-8c3a-080d27ca4651",
   "metadata": {},
   "outputs": [
    {
     "data": {
      "text/plain": [
       "array([ 6, 15])"
      ]
     },
     "execution_count": 76,
     "metadata": {},
     "output_type": "execute_result"
    }
   ],
   "source": [
    "#44# For the given array, apply custom function to calculate moving sum along rows\n",
    "# arr = np.array([[1, 2, 3], [4, 5, 6]])\n",
    "arr = np.array([[1, 2, 3], [4, 5, 6]])\n",
    "np.sum(arr,axis=1)"
   ]
  },
  {
   "cell_type": "code",
   "execution_count": 77,
   "id": "a6dc7189-6a36-47c5-a8ef-992f8f804d37",
   "metadata": {},
   "outputs": [
    {
     "data": {
      "text/plain": [
       "array([2, 4, 6])"
      ]
     },
     "execution_count": 77,
     "metadata": {},
     "output_type": "execute_result"
    }
   ],
   "source": [
    "#45# In the given array, check if all elements in each column are even\n",
    "#arr = np.array([[2, 4, 6], [3, 5, 7]])\n",
    "import numpy as np\n",
    "arr = np.array([[2, 4, 6], [3, 5, 7]])\n",
    "arr1 = arr[arr % 2 ==0]\n",
    "arr1"
   ]
  },
  {
   "cell_type": "code",
   "execution_count": 78,
   "id": "03f6500d-ed43-4ab0-ad2e-e8387f2fa193",
   "metadata": {},
   "outputs": [
    {
     "data": {
      "text/plain": [
       "array([[ True,  True,  True],\n",
       "       [False, False, False]])"
      ]
     },
     "execution_count": 78,
     "metadata": {},
     "output_type": "execute_result"
    }
   ],
   "source": [
    "b=arr % 2 == 0\n",
    "b"
   ]
  },
  {
   "cell_type": "code",
   "execution_count": 79,
   "id": "674094a0-390b-46c8-b023-e64cde713c07",
   "metadata": {},
   "outputs": [
    {
     "data": {
      "text/plain": [
       "array([[1, 2, 3],\n",
       "       [4, 5, 6]])"
      ]
     },
     "execution_count": 79,
     "metadata": {},
     "output_type": "execute_result"
    }
   ],
   "source": [
    "#46# Given a NumPy array arr, reshape it into a matrix of dimensions `m` rows and `n` columns. Return the\n",
    "#reshaped matrix.\n",
    "#original_array = np.array([1, 2, 3, 4, 5, 6])\n",
    "original_array = np.array([1, 2, 3, 4, 5, 6])\n",
    "arr =np.reshape(original_array,(2,3))\n",
    "arr"
   ]
  },
  {
   "cell_type": "code",
   "execution_count": 80,
   "id": "2b8e5494-4ced-4899-ad9a-949121e48589",
   "metadata": {},
   "outputs": [
    {
     "data": {
      "text/plain": [
       "array([1, 2, 3, 4, 5, 6])"
      ]
     },
     "execution_count": 80,
     "metadata": {},
     "output_type": "execute_result"
    }
   ],
   "source": [
    "#47# Create a function that takes a matrix as input and returns the flattened array\n",
    "# input_matrix = np.array([[1, 2, 3], [4, 5, 6]])\n",
    "input_matrix = np.array([[1, 2, 3], [4, 5, 6]])\n",
    "input_matrix.flatten()"
   ]
  },
  {
   "cell_type": "code",
   "execution_count": 81,
   "id": "d032ce17-794b-4a6b-86a6-34f1b20dc235",
   "metadata": {},
   "outputs": [
    {
     "data": {
      "text/plain": [
       "array([[ 6,  8],\n",
       "       [10, 12]])"
      ]
     },
     "execution_count": 81,
     "metadata": {},
     "output_type": "execute_result"
    }
   ],
   "source": [
    "#48# Write a function that concatenates two given arrays along a specified axis.\n",
    "#array1 = np.array([[1, 2], [3, 4]])\n",
    "#array2 = np.array([[5, 6], [7, 8]])\n",
    "array1 = np.array([[1, 2], [3, 4]])\n",
    "array2 = np.array([[5, 6], [7, 8]])\n",
    "array1+array2"
   ]
  },
  {
   "cell_type": "code",
   "execution_count": 82,
   "id": "60d8c6d7-1ca4-45e6-802b-c38039200a75",
   "metadata": {},
   "outputs": [
    {
     "data": {
      "text/plain": [
       "[array([[1],\n",
       "        [4],\n",
       "        [7]]),\n",
       " array([[2],\n",
       "        [5],\n",
       "        [8]]),\n",
       " array([[3],\n",
       "        [6],\n",
       "        [9]])]"
      ]
     },
     "execution_count": 82,
     "metadata": {},
     "output_type": "execute_result"
    }
   ],
   "source": [
    "#49# Create a function that splits an array into multiple sub-arrays along a specified axis\n",
    "# original_array = np.array([[1, 2, 3], [4, 5, 6], [7, 8, 9]])\n",
    "original_array = np.array([[1, 2, 3], [4, 5, 6], [7, 8, 9]])\n",
    "np.hsplit(original_array,3)"
   ]
  },
  {
   "cell_type": "code",
   "execution_count": 83,
   "id": "659f704d-92c4-47f8-b81a-c4d7b7b34453",
   "metadata": {},
   "outputs": [
    {
     "data": {
      "text/plain": [
       "array([10,  2, 11,  4,  5])"
      ]
     },
     "execution_count": 83,
     "metadata": {},
     "output_type": "execute_result"
    }
   ],
   "source": [
    "#50# Write a function that inserts and then deletes elements from a given array at specified indices.\n",
    "#original_array = np.array([1, 2, 3, 4, 5])\n",
    "#indices_to_insert = [2, 4]\n",
    "#values_to_insert = [10, 11]\n",
    "#indices_to_delete = [1, 3]\n",
    "original_array=np.array([1,2,3,4,5])\n",
    "arr=np.insert(original_array,1,10)\n",
    "arr1=np.insert(arr ,3,11)\n",
    "arr2=np.delete (arr1,0)\n",
    "array=np.delete(arr2,3)\n",
    "array"
   ]
  },
  {
   "cell_type": "code",
   "execution_count": 84,
   "id": "08b0e075-cef0-415c-99f9-e6453c17dd2a",
   "metadata": {},
   "outputs": [
    {
     "name": "stdout",
     "output_type": "stream",
     "text": [
      "[0 1 2 3 4] [3 7 6 6 3]\n"
     ]
    }
   ],
   "source": [
    "#51# Create a NumPy array `arr1` with random integers and another array `arr2` with integers from 1 to 10.\n",
    "#Perform element-wise addition between `arr1` and `arr2`.\n",
    "\n",
    "arr1=np.arange(5)\n",
    "arr2=np.random.randint(1,10,5)\n",
    "print(arr1,arr2)"
   ]
  },
  {
   "cell_type": "code",
   "execution_count": 85,
   "id": "4230d45e-d87a-41e0-a6f1-86fdc711a549",
   "metadata": {},
   "outputs": [
    {
     "data": {
      "text/plain": [
       "array([3, 8, 8, 9, 7])"
      ]
     },
     "execution_count": 85,
     "metadata": {},
     "output_type": "execute_result"
    }
   ],
   "source": [
    "arr1 + arr2"
   ]
  },
  {
   "cell_type": "code",
   "execution_count": 86,
   "id": "624b5c53-8d0a-44f7-97a7-3b874f4730b1",
   "metadata": {},
   "outputs": [
    {
     "name": "stdout",
     "output_type": "stream",
     "text": [
      "[10  9  8  7  6  5  4  3  2  1] [ 1  2  3  4  5  6  7  8  9 10]\n"
     ]
    }
   ],
   "source": [
    "#52# Generate a NumPy array `arr1` with sequential integers from 10 to 1 and another array `arr2` with integers\n",
    "# from 1 to 10. Subtract `arr2` from `arr1` element-wise.\n",
    "import numpy as np\n",
    "arr1=np.array([10,9,8,7,6,5,4,3,2,1])\n",
    "arr2=np.array([1,2,3,4,5,6,7,8,9,10])\n",
    "print(arr1,arr2)"
   ]
  },
  {
   "cell_type": "code",
   "execution_count": 87,
   "id": "cbacee33-4d5d-4696-aade-3ba68c8629d1",
   "metadata": {},
   "outputs": [
    {
     "data": {
      "text/plain": [
       "array([-9, -7, -5, -3, -1,  1,  3,  5,  7,  9])"
      ]
     },
     "execution_count": 87,
     "metadata": {},
     "output_type": "execute_result"
    }
   ],
   "source": [
    "np.subtract(arr2,arr1)"
   ]
  },
  {
   "cell_type": "code",
   "execution_count": 91,
   "id": "cf0ccdd3-d02e-4f1e-9718-0a78fa7b7584",
   "metadata": {},
   "outputs": [
    {
     "name": "stdout",
     "output_type": "stream",
     "text": [
      "[0 1 2 3 4] [3 3 3 2 2]\n"
     ]
    }
   ],
   "source": [
    "#53# Create a NumPy array `arr1` with random integers and another array `arr2` with integers from 1 to 5.\n",
    "# Perform element-wise multiplication between `arr1` and `arr2`.\n",
    "arr1=np.arange(5)\n",
    "arr2=np.random.randint(1,5,5)\n",
    "print(arr1,arr2)"
   ]
  },
  {
   "cell_type": "code",
   "execution_count": 92,
   "id": "b8613f92-200b-4fca-bed0-e5e4567bfd86",
   "metadata": {},
   "outputs": [
    {
     "data": {
      "text/plain": [
       "array([0, 3, 6, 6, 8])"
      ]
     },
     "execution_count": 92,
     "metadata": {},
     "output_type": "execute_result"
    }
   ],
   "source": [
    "arr1 * arr2"
   ]
  },
  {
   "cell_type": "code",
   "execution_count": 93,
   "id": "bf3e3b40-67cf-41a9-b212-bd80d34a9458",
   "metadata": {},
   "outputs": [
    {
     "name": "stdout",
     "output_type": "stream",
     "text": [
      "[ 2  4  6  8 10] [2 2 2 2 1]\n"
     ]
    }
   ],
   "source": [
    "#54#  Generate a NumPy array `arr1` with even integers from 2 to 10 and another array `arr2` with integers from 1\n",
    "# to 5. Perform element-wise division of `arr1` by `arr2`.\n",
    "arr1=np.arange(2,11,2)\n",
    "arr2=np.random.randint(1,5,5)\n",
    "print(arr1,arr2)"
   ]
  },
  {
   "cell_type": "code",
   "execution_count": 94,
   "id": "0e1d67d6-01bf-4194-888f-bfef2340cd64",
   "metadata": {},
   "outputs": [
    {
     "data": {
      "text/plain": [
       "array([ 1.,  2.,  3.,  4., 10.])"
      ]
     },
     "execution_count": 94,
     "metadata": {},
     "output_type": "execute_result"
    }
   ],
   "source": [
    "arr1 / arr2"
   ]
  },
  {
   "cell_type": "code",
   "execution_count": 95,
   "id": "1ab19a7d-2591-4885-8584-5d50fdecaa38",
   "metadata": {},
   "outputs": [
    {
     "name": "stdout",
     "output_type": "stream",
     "text": [
      "[2 3 2 4 2] [2 4 2 3 2]\n"
     ]
    }
   ],
   "source": [
    "#55# Create a NumPy array `arr1` with integers from 1 to 5 and another array `arr2` with the same numbers\n",
    "# reversed. Calculate the exponentiation of `arr1` raised to the power of `arr2` element-wise\n",
    "arr1=np.random.randint(1,5,5)\n",
    "arr2=np.flip(arr1)\n",
    "print(arr1,arr2)"
   ]
  },
  {
   "cell_type": "code",
   "execution_count": 96,
   "id": "f9b469ad-2a96-4dbc-8224-f1ef07f256e4",
   "metadata": {},
   "outputs": [
    {
     "data": {
      "text/plain": [
       "array([ 4, 81,  4, 64,  4])"
      ]
     },
     "execution_count": 96,
     "metadata": {},
     "output_type": "execute_result"
    }
   ],
   "source": [
    "arr1=np.power(arr1,arr2)\n",
    "arr1"
   ]
  },
  {
   "cell_type": "code",
   "execution_count": 97,
   "id": "cac7812a-d5b7-4d48-a3ba-a52b6318098b",
   "metadata": {},
   "outputs": [
    {
     "data": {
      "text/plain": [
       "array([5.45981500e+01, 1.50609731e+35, 5.45981500e+01, 6.23514908e+27,\n",
       "       5.45981500e+01])"
      ]
     },
     "execution_count": 97,
     "metadata": {},
     "output_type": "execute_result"
    }
   ],
   "source": [
    "np.exp(arr1)"
   ]
  },
  {
   "cell_type": "code",
   "execution_count": 98,
   "id": "581138e8-2412-415b-ab60-3b20ec826cfe",
   "metadata": {},
   "outputs": [
    {
     "data": {
      "text/plain": [
       "array([1, 0, 1, 0, 1])"
      ]
     },
     "execution_count": 98,
     "metadata": {},
     "output_type": "execute_result"
    }
   ],
   "source": [
    "#56# Write a function that counts the occurrences of a specific substring within a NumPy array of strings\n",
    "# arr = np.array(['hello', 'world', 'hello', 'numpy', 'hello'])\n",
    "arr = np.array(['hello', 'world', 'hello', 'numpy', 'hello'])\n",
    "np.char.count(arr,'hello')"
   ]
  },
  {
   "cell_type": "code",
   "execution_count": 99,
   "id": "6d610ae9-ebd9-476e-a894-052ada25e6df",
   "metadata": {},
   "outputs": [],
   "source": [
    "#57# Write a function that extracts uppercase characters from a NumPy array of strings.\n",
    "#arr = np.array(['Hello', 'World', 'OpenAI', 'GPT'])\n",
    "ARR"
   ]
  },
  {
   "cell_type": "code",
   "execution_count": 100,
   "id": "713b240c-4b29-4624-8851-58ed3bc4fa61",
   "metadata": {},
   "outputs": [
    {
     "data": {
      "text/plain": [
       "array(['apple', 'banana', 'grape', 'pineapple', 'orange', 'mango'],\n",
       "      dtype='<U9')"
      ]
     },
     "execution_count": 100,
     "metadata": {},
     "output_type": "execute_result"
    }
   ],
   "source": [
    "#58#  Write a function that replaces occurrences of a substring in a NumPy array of strings with a new string.\n",
    "#arr = np.array(['apple', 'banana', 'grape', 'pineapple'])\n",
    "arr = np.array(['apple', 'banana', 'grape', 'pineapple'])\n",
    "arr1=np.array(['orange','mango'])\n",
    "np.append(arr,arr1)"
   ]
  },
  {
   "cell_type": "code",
   "execution_count": 101,
   "id": "1dbfe23f-ef40-4890-a0c7-b4df43b8bf96",
   "metadata": {},
   "outputs": [
    {
     "data": {
      "text/plain": [
       "array(['Hello', 'World', 'Open', 'AI'], dtype='<U5')"
      ]
     },
     "execution_count": 101,
     "metadata": {},
     "output_type": "execute_result"
    }
   ],
   "source": [
    "#59# Write a function that concatenates strings in a NumPy array element-wise\n",
    "# arr1 = np.array(['Hello', 'World'])\n",
    "# arr2 = np.array(['Open', 'AI'])\n",
    "arr1 = np.array(['Hello', 'World'])\n",
    "arr2 = np.array(['Open', 'AI'])\n",
    "np.concatenate((arr1,arr2),axis=0)"
   ]
  },
  {
   "cell_type": "code",
   "execution_count": 102,
   "id": "6b993785-024e-44e8-be78-12db18c45669",
   "metadata": {},
   "outputs": [
    {
     "name": "stdout",
     "output_type": "stream",
     "text": [
      "pineapple\n"
     ]
    }
   ],
   "source": [
    "#60# Write a function that finds the length of the longest string in a NumPy array.\n",
    "# arr = np.array(['apple', 'banana', 'grape', 'pineapple'])\n",
    "arr = np.array(['apple', 'banana', 'grape', 'pineapple'])\n",
    "print(max(arr, key=len))"
   ]
  },
  {
   "cell_type": "code",
   "execution_count": 103,
   "id": "b3a8efcc-5f28-4f73-8371-94304c5ed605",
   "metadata": {},
   "outputs": [
    {
     "data": {
      "text/plain": [
       "array([666, 361, 919, 644, 779, 979, 479, 716, 667, 713, 608, 254, 708,\n",
       "       209, 926, 656, 211, 643, 838, 337, 405, 811, 620, 188, 211, 531,\n",
       "       551, 844, 414, 735, 886, 118, 549,  97, 722, 509, 414, 923, 501,\n",
       "       285, 672, 373, 719, 516,  25, 274, 211, 557, 800, 325, 118,  48,\n",
       "       757, 884, 736, 565, 354, 198, 820, 400, 645, 775, 339, 188, 480,\n",
       "        91, 605, 907, 100, 442, 584, 202, 917, 495, 131, 869, 294, 312,\n",
       "       910, 662, 764, 679, 596, 448, 500, 339, 314, 551, 686, 808, 457,\n",
       "       256, 559, 155, 892, 249, 478, 467,  94, 785])"
      ]
     },
     "execution_count": 103,
     "metadata": {},
     "output_type": "execute_result"
    }
   ],
   "source": [
    "#61# Create a dataset of 100 random integers between 1 and 1000. Compute the mean, median, variance, and\n",
    "# standard deviation of the dataset using NumPy's functions.\n",
    "arr=np.random.randint(1,1000,100)\n",
    "arr"
   ]
  },
  {
   "cell_type": "code",
   "execution_count": 104,
   "id": "71ea67fb-0b30-4f5b-8f92-1313934c7e87",
   "metadata": {},
   "outputs": [
    {
     "data": {
      "text/plain": [
       "520.04"
      ]
     },
     "execution_count": 104,
     "metadata": {},
     "output_type": "execute_result"
    }
   ],
   "source": [
    "np.mean(arr)"
   ]
  },
  {
   "cell_type": "code",
   "execution_count": 105,
   "id": "33f6d653-6e01-4e20-b988-a91d231c70df",
   "metadata": {},
   "outputs": [
    {
     "data": {
      "text/plain": [
       "540.0"
      ]
     },
     "execution_count": 105,
     "metadata": {},
     "output_type": "execute_result"
    }
   ],
   "source": [
    "np.median(arr)"
   ]
  },
  {
   "cell_type": "code",
   "execution_count": 106,
   "id": "b79e014a-009d-46ae-8c8f-c9e53e9888a0",
   "metadata": {},
   "outputs": [
    {
     "data": {
      "text/plain": [
       "64314.258400000006"
      ]
     },
     "execution_count": 106,
     "metadata": {},
     "output_type": "execute_result"
    }
   ],
   "source": [
    "np.var(arr)"
   ]
  },
  {
   "cell_type": "code",
   "execution_count": 107,
   "id": "31ee1829-9753-47da-86f4-884223350390",
   "metadata": {},
   "outputs": [
    {
     "data": {
      "text/plain": [
       "253.60255992398817"
      ]
     },
     "execution_count": 107,
     "metadata": {},
     "output_type": "execute_result"
    }
   ],
   "source": [
    "np.std(arr)"
   ]
  },
  {
   "cell_type": "code",
   "execution_count": 108,
   "id": "a4eb8c60-5e95-4f93-aab1-f5717f774828",
   "metadata": {},
   "outputs": [
    {
     "data": {
      "text/plain": [
       "array([ 4, 62, 26,  6, 59, 11, 77, 78, 92, 67, 92, 40, 83, 34, 82, 29, 72,\n",
       "       65, 77, 60, 38, 21, 69, 79,  8, 48, 94, 54,  8, 12, 44, 58, 64, 66,\n",
       "       96,  1, 63, 64, 70, 64, 29, 19,  2, 96, 98, 70,  3, 10, 21, 49])"
      ]
     },
     "execution_count": 108,
     "metadata": {},
     "output_type": "execute_result"
    }
   ],
   "source": [
    "#62# Generate an array of 50 random numbers between 1 and 100. Find the 25th and 75th percentiles of the dataset.\n",
    "arr1=np.random.randint(1,100,50)\n",
    "arr1"
   ]
  },
  {
   "cell_type": "code",
   "execution_count": 109,
   "id": "6bc90e26-d432-49f0-ab0f-dcd237bbe876",
   "metadata": {},
   "outputs": [
    {
     "data": {
      "text/plain": [
       "22.25"
      ]
     },
     "execution_count": 109,
     "metadata": {},
     "output_type": "execute_result"
    }
   ],
   "source": [
    "np.percentile(arr1,25)"
   ]
  },
  {
   "cell_type": "code",
   "execution_count": 110,
   "id": "57356adb-e722-425a-a3f9-7dce1e9535b0",
   "metadata": {},
   "outputs": [
    {
     "data": {
      "text/plain": [
       "71.5"
      ]
     },
     "execution_count": 110,
     "metadata": {},
     "output_type": "execute_result"
    }
   ],
   "source": [
    "np.percentile(arr1,75)"
   ]
  },
  {
   "cell_type": "code",
   "execution_count": 111,
   "id": "14c4fa21-ea4e-4f37-8a8c-50f462441eb8",
   "metadata": {},
   "outputs": [
    {
     "data": {
      "text/plain": [
       "array([[0.77395605, 0.43887844, 0.85859792],\n",
       "       [0.69736803, 0.09417735, 0.97562235],\n",
       "       [0.7611397 , 0.78606431, 0.12811363]])"
      ]
     },
     "execution_count": 111,
     "metadata": {},
     "output_type": "execute_result"
    }
   ],
   "source": [
    "#63# Create two arrays representing two sets of variables. Compute the correlation coefficient between these arrays using NumPy's `corrcoef` function.\n",
    "rng = np.random.default_rng(seed=42)\n",
    "xarr = rng.random((3, 3))\n",
    "xarr"
   ]
  },
  {
   "cell_type": "code",
   "execution_count": 112,
   "id": "a1d1c65a-e7d7-4198-aade-180e75057b3b",
   "metadata": {},
   "outputs": [
    {
     "data": {
      "text/plain": [
       "array([[0.45038594, 0.37079802, 0.92676499],\n",
       "       [0.64386512, 0.82276161, 0.4434142 ],\n",
       "       [0.22723872, 0.55458479, 0.06381726]])"
      ]
     },
     "execution_count": 112,
     "metadata": {},
     "output_type": "execute_result"
    }
   ],
   "source": [
    "yarr = rng.random((3, 3))\n",
    "yarr"
   ]
  },
  {
   "cell_type": "code",
   "execution_count": 113,
   "id": "93f80b16-702a-4902-a074-1ae0f2339212",
   "metadata": {},
   "outputs": [
    {
     "data": {
      "text/plain": [
       "array([[ 1.        ,  0.99256089, -0.68080986,  0.75008178, -0.934284  ,\n",
       "        -0.99004057],\n",
       "       [ 0.99256089,  1.        , -0.76492172,  0.82502011, -0.97074098,\n",
       "        -0.99981569],\n",
       "       [-0.68080986, -0.76492172,  1.        , -0.99507202,  0.89721355,\n",
       "         0.77714685],\n",
       "       [ 0.75008178,  0.82502011, -0.99507202,  1.        , -0.93657855,\n",
       "        -0.83571711],\n",
       "       [-0.934284  , -0.97074098,  0.89721355, -0.93657855,  1.        ,\n",
       "         0.97517215],\n",
       "       [-0.99004057, -0.99981569,  0.77714685, -0.83571711,  0.97517215,\n",
       "         1.        ]])"
      ]
     },
     "execution_count": 113,
     "metadata": {},
     "output_type": "execute_result"
    }
   ],
   "source": [
    "R2 = np.corrcoef(xarr, yarr)\n",
    "R2"
   ]
  },
  {
   "cell_type": "code",
   "execution_count": 114,
   "id": "3b879454-a49c-4de8-bb0c-4f95bcaab99f",
   "metadata": {},
   "outputs": [
    {
     "data": {
      "text/plain": [
       "array([2, 1, 4, 1, 3, 4, 4, 4, 4])"
      ]
     },
     "execution_count": 114,
     "metadata": {},
     "output_type": "execute_result"
    }
   ],
   "source": [
    "#63#\n",
    "arr=np.random.randint(1,5,9)\n",
    "arr"
   ]
  },
  {
   "cell_type": "code",
   "execution_count": 115,
   "id": "26c62339-3557-4a7a-bd04-3dc7a7598e25",
   "metadata": {},
   "outputs": [
    {
     "data": {
      "text/plain": [
       "array([84, 61, 63, 83, 60, 88, 71, 71, 76])"
      ]
     },
     "execution_count": 115,
     "metadata": {},
     "output_type": "execute_result"
    }
   ],
   "source": [
    "arr1=np.random.randint(50,100,9)\n",
    "arr1"
   ]
  },
  {
   "cell_type": "code",
   "execution_count": 116,
   "id": "f19d0b26-97c6-497a-826f-17f56a2275c8",
   "metadata": {},
   "outputs": [
    {
     "data": {
      "text/plain": [
       "array([[ 1.        , -0.02708976],\n",
       "       [-0.02708976,  1.        ]])"
      ]
     },
     "execution_count": 116,
     "metadata": {},
     "output_type": "execute_result"
    }
   ],
   "source": [
    "R2 = np.corrcoef(arr, arr1)\n",
    "R2"
   ]
  },
  {
   "cell_type": "code",
   "execution_count": 117,
   "id": "e8516f71-57de-4d26-aa27-0226e48f682e",
   "metadata": {},
   "outputs": [
    {
     "data": {
      "text/plain": [
       "matrix([[19, 22],\n",
       "        [43, 50]])"
      ]
     },
     "execution_count": 117,
     "metadata": {},
     "output_type": "execute_result"
    }
   ],
   "source": [
    "#64# Create two matrices and perform matrix multiplication using NumPy's `dot` function.\n",
    "a=np.matrix([[1, 2], [3, 4]])\n",
    "b=np.matrix([[5, 6], [7, 8]])\n",
    "np.dot(a,b)"
   ]
  },
  {
   "cell_type": "code",
   "execution_count": 118,
   "id": "7fba0be8-311a-4341-9cef-32b67512d705",
   "metadata": {},
   "outputs": [
    {
     "data": {
      "text/plain": [
       "array([751, 703, 168, 396, 162, 563, 871, 295, 652, 495,  25, 823,  56,\n",
       "       535, 174, 863, 740,  47, 589,  29, 680, 364, 378, 586, 601, 581,\n",
       "       589, 879, 767, 199,  59, 471, 850, 567, 594, 486, 943, 277, 959,\n",
       "       952, 400, 866, 453, 340, 985, 388, 544, 480, 364, 969])"
      ]
     },
     "execution_count": 118,
     "metadata": {},
     "output_type": "execute_result"
    }
   ],
   "source": [
    "#65# Create an array of 50 integers between 10 and 1000. Calculate the 10th, 50th (median), and 90th\n",
    "# percentiles along with the first and third quartiles.\n",
    "arr=np.random.randint(10,1000,50)\n",
    "arr"
   ]
  },
  {
   "cell_type": "code",
   "execution_count": 119,
   "id": "e7fbb7df-be6b-48a2-88a5-227a6c8f9e5c",
   "metadata": {},
   "outputs": [
    {
     "name": "stdout",
     "output_type": "stream",
     "text": [
      "All index value of 3 is:  [2 7]\n"
     ]
    }
   ],
   "source": [
    "#66# Create a NumPy array of integers and find the index of a specific element.\n",
    "a = np.array([1, 2, 3, 4, 8, 6, 7, 3, 9, 10])\n",
    "print(\"All index value of 3 is: \", np.where(a == 3)[0])"
   ]
  },
  {
   "cell_type": "code",
   "execution_count": 120,
   "id": "90de51d0-6b32-409d-ae0a-2970fd8e0358",
   "metadata": {},
   "outputs": [
    {
     "data": {
      "text/plain": [
       "array([2, 9, 5, 8, 5, 2, 7, 2, 7, 2])"
      ]
     },
     "execution_count": 120,
     "metadata": {},
     "output_type": "execute_result"
    }
   ],
   "source": [
    "#67# Generate a random NumPy array and sort it in ascending order.\n",
    "T = np.random.randint(1,10, 10)\n",
    "T"
   ]
  },
  {
   "cell_type": "code",
   "execution_count": 121,
   "id": "b2c5ab7c-cd4e-4f84-9647-5433558b3a98",
   "metadata": {},
   "outputs": [
    {
     "data": {
      "text/plain": [
       "array([2, 2, 2, 2, 5, 5, 7, 7, 8, 9])"
      ]
     },
     "execution_count": 121,
     "metadata": {},
     "output_type": "execute_result"
    }
   ],
   "source": [
    "np.sort(T)"
   ]
  },
  {
   "cell_type": "code",
   "execution_count": 122,
   "id": "a1c124cf-83d1-441c-b673-92f1e5f0b02e",
   "metadata": {},
   "outputs": [
    {
     "data": {
      "text/plain": [
       "array([25, 42, 30])"
      ]
     },
     "execution_count": 122,
     "metadata": {},
     "output_type": "execute_result"
    }
   ],
   "source": [
    "#68# Filter elements >20  in the given NumPy array\n",
    "# arr = np.array([12, 25, 6, 42, 8, 30])\n",
    "import numpy as np\n",
    "arr = np.array([12, 25, 6, 42, 8, 30])\n",
    "arr[(arr > 20)]"
   ]
  },
  {
   "cell_type": "code",
   "execution_count": 123,
   "id": "9861f9f8-bea7-46fa-87fc-2f1ef38dbc4f",
   "metadata": {},
   "outputs": [
    {
     "name": "stdout",
     "output_type": "stream",
     "text": [
      "[12 15]\n"
     ]
    }
   ],
   "source": [
    "#69# Filter elements which are divisible by 3 from a given NumPy array\n",
    "# arr = np.array([1, 5, 8, 12, 15])\n",
    "arr = np.array([1, 5, 8, 12, 15])\n",
    "A=(arr%3==0)\n",
    "print(arr[A])"
   ]
  },
  {
   "cell_type": "code",
   "execution_count": 124,
   "id": "12072891-297d-4d65-a164-06c484eec7fd",
   "metadata": {},
   "outputs": [],
   "source": [
    "#70#  Filter elements which are ≥ 20 and ≤ 40 from a given NumPy array\n",
    "# arr = np.array([10, 20, 30, 40, 50])\n",
    "arr = np.array([10, 20, 30, 40, 50])"
   ]
  },
  {
   "cell_type": "code",
   "execution_count": 125,
   "id": "d6273a05-a92f-4a63-98ef-efaadabdc4d1",
   "metadata": {},
   "outputs": [
    {
     "data": {
      "text/plain": [
       "<member 'byteorder' of 'numpy.dtype' objects>"
      ]
     },
     "execution_count": 125,
     "metadata": {},
     "output_type": "execute_result"
    }
   ],
   "source": [
    "#71# For the given NumPy array, check its byte order using the `dtype` attribute byteorder.\n",
    "# arr = np.array([1, 2, 3])\n",
    "arr = np.array([1, 2, 3])\n",
    "type(arr.dtype).byteorder\n"
   ]
  },
  {
   "cell_type": "code",
   "execution_count": 126,
   "id": "b19bbd9c-e6f3-49a5-823e-d07301fdef79",
   "metadata": {},
   "outputs": [
    {
     "data": {
      "text/plain": [
       "numpy.dtype[int64]"
      ]
     },
     "execution_count": 126,
     "metadata": {},
     "output_type": "execute_result"
    }
   ],
   "source": [
    "type(arr.dtype)"
   ]
  },
  {
   "cell_type": "code",
   "execution_count": 127,
   "id": "5fa54152-8120-459f-827f-5691e711e0a5",
   "metadata": {},
   "outputs": [
    {
     "data": {
      "text/plain": [
       "array([16777216, 33554432, 50331648], dtype=int32)"
      ]
     },
     "execution_count": 127,
     "metadata": {},
     "output_type": "execute_result"
    }
   ],
   "source": [
    "#72# For the given NumPy array, perform byte swapping in place using `byteswap()`\n",
    "# arr = np.array([1, 2, 3], dtype=np.int32)\n",
    "arr = np.array([1, 2, 3], dtype=np.int32)\n",
    "arr.byteswap(inplace=True)"
   ]
  },
  {
   "cell_type": "code",
   "execution_count": 128,
   "id": "e75e5066-073a-4483-9c4e-1eb4c4f8503a",
   "metadata": {},
   "outputs": [
    {
     "data": {
      "text/plain": [
       "array([16777216, 33554432, 50331648], dtype=int32)"
      ]
     },
     "execution_count": 128,
     "metadata": {},
     "output_type": "execute_result"
    }
   ],
   "source": [
    "#73# For the given NumPy array, swap its byte order without modifying the original array using\n",
    "# `newbyteorder()`.\n",
    "# arr = np.array([1, 2, 3], dtype=np.int32)\n",
    "arr = np.array([1, 2, 3], dtype=np.int32)\n",
    "arr.byteswap(inplace=True)"
   ]
  },
  {
   "cell_type": "code",
   "execution_count": 129,
   "id": "15395f7a-c40d-4332-90c2-e50522ba9303",
   "metadata": {},
   "outputs": [
    {
     "name": "stdout",
     "output_type": "stream",
     "text": [
      "[16777216 33554432 50331648]\n"
     ]
    }
   ],
   "source": [
    "#74#  For the given NumPy array and swap its byte order conditionally based on system endianness using `newbyteorder()`.\n",
    "# arr = np.array([1, 2, 3], dtype=np.int32)\n",
    "arr = np.array([1, 2, 3], dtype=np.int32)\n",
    "print(arr.byteswap(True))"
   ]
  },
  {
   "cell_type": "code",
   "execution_count": 130,
   "id": "a3ac4182-bc44-4256-bc59-7c485e72ca00",
   "metadata": {},
   "outputs": [
    {
     "name": "stdout",
     "output_type": "stream",
     "text": [
      "int32\n"
     ]
    }
   ],
   "source": [
    "#75#  For the given NumPy array, check if byte swapping is necessary for the current system using `dtype`\n",
    "# attribute `byteorder`.\n",
    "# arr = np.array([1, 2, 3], dtype=np.int32)\n",
    "arr = np.array([1, 2, 3], dtype=np.int32)\n",
    "print(arr.dtype)"
   ]
  },
  {
   "cell_type": "code",
   "execution_count": 131,
   "id": "6d26e03c-752b-4fdb-a61f-3fe4f7faaabf",
   "metadata": {},
   "outputs": [
    {
     "data": {
      "text/plain": [
       "array([3, 1, 7, 5, 3])"
      ]
     },
     "execution_count": 131,
     "metadata": {},
     "output_type": "execute_result"
    }
   ],
   "source": [
    "#76# Create a NumPy array `arr1` with values from 1 to 10. Create a copy of `arr1` named `copy_arr` and modify\n",
    "# an element in `copy_arr`. Check if modifying `copy_arr` affects `arr1`.\n",
    "arr1=np.random.randint(1,10,5)\n",
    "arr1"
   ]
  },
  {
   "cell_type": "code",
   "execution_count": 132,
   "id": "8bf08500-217f-4165-b55b-b8b8c0533770",
   "metadata": {},
   "outputs": [
    {
     "data": {
      "text/plain": [
       "array([3, 1, 7, 5, 3])"
      ]
     },
     "execution_count": 132,
     "metadata": {},
     "output_type": "execute_result"
    }
   ],
   "source": [
    "copy_arr=arr1.copy()\n",
    "copy_arr"
   ]
  },
  {
   "cell_type": "code",
   "execution_count": 133,
   "id": "0739325d-990a-4375-973b-d7176087f7e8",
   "metadata": {},
   "outputs": [
    {
     "name": "stdout",
     "output_type": "stream",
     "text": [
      "[3 1 7 5 3] [3 1 7 5 3]\n"
     ]
    }
   ],
   "source": [
    "copy_arr[3]=5\n",
    "print(arr1,copy_arr)"
   ]
  },
  {
   "cell_type": "code",
   "execution_count": 134,
   "id": "47f55c39-96af-463f-98ae-a11b95863696",
   "metadata": {},
   "outputs": [
    {
     "data": {
      "text/plain": [
       "array([[ 2,  4,  6],\n",
       "       [ 6,  8, 10],\n",
       "       [ 3,  7,  9]])"
      ]
     },
     "execution_count": 134,
     "metadata": {},
     "output_type": "execute_result"
    }
   ],
   "source": [
    "#77#  Create a 2D NumPy array `matrix` of shape (3, 3) with random integers. Extract a slice `view_slice` from\n",
    "# the matrix. Modify an element in `view_slice` and observe if it changes the original `matrix`.\n",
    "matrix=np.array([[2, 4, 6], [6, 8, 10],[3,7,9]])\n",
    "matrix"
   ]
  },
  {
   "cell_type": "code",
   "execution_count": 135,
   "id": "9c185769-f460-442a-968b-cefab3402ec4",
   "metadata": {},
   "outputs": [
    {
     "data": {
      "text/plain": [
       "array([3, 7, 9])"
      ]
     },
     "execution_count": 135,
     "metadata": {},
     "output_type": "execute_result"
    }
   ],
   "source": [
    "view_slice=(matrix[2,0:3])\n",
    "view_slice"
   ]
  },
  {
   "cell_type": "code",
   "execution_count": 136,
   "id": "f2816f34-3671-482e-8b65-900651afffc0",
   "metadata": {},
   "outputs": [
    {
     "name": "stdout",
     "output_type": "stream",
     "text": [
      "[[ 2  4  6]\n",
      " [ 6  8 10]\n",
      " [ 3  1  9]] [3 1 9]\n"
     ]
    }
   ],
   "source": [
    "view_slice[1]=1\n",
    "print(matrix,view_slice)"
   ]
  },
  {
   "cell_type": "code",
   "execution_count": 137,
   "id": "ab6d2975-1b02-494d-a38a-9ff64f87beda",
   "metadata": {},
   "outputs": [
    {
     "data": {
      "text/plain": [
       "array([[ 1,  2,  3],\n",
       "       [ 4,  5,  6],\n",
       "       [ 7,  8,  9],\n",
       "       [10, 11,  2]])"
      ]
     },
     "execution_count": 137,
     "metadata": {},
     "output_type": "execute_result"
    }
   ],
   "source": [
    "#78# Create a NumPy array `array_a` of shape (4, 3) with sequential integers from 1 to 12. Extract a slice\n",
    "# `view_b` from `array_a` and broadcast the addition of 5 to view_b. Check if it alters the original `array_a`.\n",
    "array_a=np.array([[1,2,3],[4,5,6],[7,8,9],[10,11,2]])\n",
    "array_a"
   ]
  },
  {
   "cell_type": "code",
   "execution_count": 138,
   "id": "9062386e-3f17-45b2-9784-20d786d57a5d",
   "metadata": {},
   "outputs": [
    {
     "data": {
      "text/plain": [
       "array([5, 6])"
      ]
     },
     "execution_count": 138,
     "metadata": {},
     "output_type": "execute_result"
    }
   ],
   "source": [
    "view_b=(array_a[1,1:3])\n",
    "view_b"
   ]
  },
  {
   "cell_type": "code",
   "execution_count": 139,
   "id": "3cf0ad78-4f00-436b-aeb1-e32173ba980c",
   "metadata": {},
   "outputs": [
    {
     "data": {
      "text/plain": [
       "array([10, 11])"
      ]
     },
     "execution_count": 139,
     "metadata": {},
     "output_type": "execute_result"
    }
   ],
   "source": [
    "view_b + 5"
   ]
  },
  {
   "cell_type": "code",
   "execution_count": 140,
   "id": "6ed0a976-496a-4d5e-94d9-2fd099246428",
   "metadata": {},
   "outputs": [
    {
     "data": {
      "text/plain": [
       "array([[ 1,  2,  3],\n",
       "       [ 4,  5,  6],\n",
       "       [ 7,  8,  9],\n",
       "       [10, 11,  2]])"
      ]
     },
     "execution_count": 140,
     "metadata": {},
     "output_type": "execute_result"
    }
   ],
   "source": [
    "array_a"
   ]
  },
  {
   "cell_type": "code",
   "execution_count": 141,
   "id": "a59422b2-6e70-4ae9-b218-e76e3d4ee4d5",
   "metadata": {},
   "outputs": [
    {
     "data": {
      "text/plain": [
       "array([[0, 1, 2, 3],\n",
       "       [4, 5, 6, 7]])"
      ]
     },
     "execution_count": 141,
     "metadata": {},
     "output_type": "execute_result"
    }
   ],
   "source": [
    "#79# Create a NumPy array `orig_array` of shape (2, 4) with values from 1 to 8. Create a reshaped view\n",
    "# `reshaped_view` of shape (4, 2) from orig_array. Modify an element in `reshaped_view` and check if it\n",
    "# reflects changes in the original `orig_array`.\n",
    "orig_array= np.arange(0,8).reshape(2, 4)\n",
    "orig_array"
   ]
  },
  {
   "cell_type": "code",
   "execution_count": 142,
   "id": "da8a21bc-5a83-4b26-9e7b-9df629c77dd7",
   "metadata": {},
   "outputs": [
    {
     "data": {
      "text/plain": [
       "array([[0, 1],\n",
       "       [2, 3],\n",
       "       [4, 5],\n",
       "       [6, 7]])"
      ]
     },
     "execution_count": 142,
     "metadata": {},
     "output_type": "execute_result"
    }
   ],
   "source": [
    "reshape_view=orig_array.reshape(4, 2)\n",
    "reshape_view"
   ]
  },
  {
   "cell_type": "code",
   "execution_count": 143,
   "id": "ff7de1d1-a4ba-40b0-bfcb-fe477537af17",
   "metadata": {},
   "outputs": [
    {
     "name": "stdout",
     "output_type": "stream",
     "text": [
      "[[9 9 2 3]\n",
      " [4 5 6 7]] [[9 9]\n",
      " [2 3]\n",
      " [4 5]\n",
      " [6 7]]\n"
     ]
    }
   ],
   "source": [
    "reshape_view[0]=9\n",
    "print(orig_array,reshape_view)"
   ]
  },
  {
   "cell_type": "code",
   "execution_count": 144,
   "id": "7fb25bee-5a71-47de-993e-a558f608c1cc",
   "metadata": {},
   "outputs": [
    {
     "data": {
      "text/plain": [
       "array([[12,  8,  5, 10],\n",
       "       [10,  1, 13,  4],\n",
       "       [ 2,  1,  4,  9]])"
      ]
     },
     "execution_count": 144,
     "metadata": {},
     "output_type": "execute_result"
    }
   ],
   "source": [
    "#80# Create a NumPy array `data` of shape (3, 4) with random integers. Extract a copy `data_copy` of\n",
    "# elements greater than 5. Modify an element in `data_copy` and verify if it affects the original `data`.\n",
    "data =np.random.randint(1,15,12).reshape(3, 4)\n",
    "data"
   ]
  },
  {
   "cell_type": "code",
   "execution_count": 145,
   "id": "8d3d1a09-2326-4c08-99f8-c2b8061e2b9a",
   "metadata": {},
   "outputs": [
    {
     "data": {
      "text/plain": [
       "array([12,  8, 10, 10, 13,  9])"
      ]
     },
     "execution_count": 145,
     "metadata": {},
     "output_type": "execute_result"
    }
   ],
   "source": [
    "data_copy = np.copy(data)\n",
    "data_copy[data>5]\n"
   ]
  },
  {
   "cell_type": "code",
   "execution_count": 146,
   "id": "c7eb154d-0a70-4e82-bca5-f80a305ee770",
   "metadata": {},
   "outputs": [
    {
     "data": {
      "text/plain": [
       "array([[12,  8,  5, 10],\n",
       "       [12, 12, 12, 12],\n",
       "       [ 2,  1,  4,  9]])"
      ]
     },
     "execution_count": 146,
     "metadata": {},
     "output_type": "execute_result"
    }
   ],
   "source": [
    "data_copy[1]=12\n",
    "data_copy"
   ]
  },
  {
   "cell_type": "code",
   "execution_count": 147,
   "id": "b2d2fd36-f843-4359-84c4-33afede659fd",
   "metadata": {},
   "outputs": [
    {
     "data": {
      "text/plain": [
       "array([[12,  8,  5, 10],\n",
       "       [10,  1, 13,  4],\n",
       "       [ 2,  1,  4,  9]])"
      ]
     },
     "execution_count": 147,
     "metadata": {},
     "output_type": "execute_result"
    }
   ],
   "source": [
    "data"
   ]
  },
  {
   "cell_type": "code",
   "execution_count": 148,
   "id": "de0852be-df87-4c08-b11f-ee7ed0467965",
   "metadata": {},
   "outputs": [
    {
     "name": "stdout",
     "output_type": "stream",
     "text": [
      "([1, 2, 3], [4, 5, 6]) [7, 8, 9]\n"
     ]
    }
   ],
   "source": [
    "#81# Create two matrices A and B of identical shape containing integers and perform addition and subtraction\n",
    "#operations between them.\n",
    "A = ([1,2,3], [4,5,6])\n",
    "B = ([7,8,9])\n",
    "print(A,B)"
   ]
  },
  {
   "cell_type": "code",
   "execution_count": 149,
   "id": "ab342589-aaa3-4adc-9d5f-b563fbb16f22",
   "metadata": {},
   "outputs": [
    {
     "data": {
      "text/plain": [
       "array([[ 8, 10, 12],\n",
       "       [11, 13, 15]])"
      ]
     },
     "execution_count": 149,
     "metadata": {},
     "output_type": "execute_result"
    }
   ],
   "source": [
    "np.add(A,B)"
   ]
  },
  {
   "cell_type": "code",
   "execution_count": 150,
   "id": "b4982071-ff24-4d19-90f5-761facfff4d8",
   "metadata": {},
   "outputs": [
    {
     "data": {
      "text/plain": [
       "array([[-6, -6, -6],\n",
       "       [-3, -3, -3]])"
      ]
     },
     "execution_count": 150,
     "metadata": {},
     "output_type": "execute_result"
    }
   ],
   "source": [
    "np.subtract(A,B)"
   ]
  },
  {
   "cell_type": "code",
   "execution_count": 151,
   "id": "dbc06fe1-7293-45e0-a2da-532b9df680df",
   "metadata": {},
   "outputs": [
    {
     "data": {
      "text/plain": [
       "array([[2, 3],\n",
       "       [4, 5],\n",
       "       [6, 7]])"
      ]
     },
     "execution_count": 151,
     "metadata": {},
     "output_type": "execute_result"
    }
   ],
   "source": [
    "#82#  Generate two matrices `C` (3x2) and `D` (2x4) and perform matrix multiplication.\n",
    "C = np.arange(2,8).reshape(3, 2)\n",
    "C"
   ]
  },
  {
   "cell_type": "code",
   "execution_count": 152,
   "id": "b5219990-07d2-43a5-a804-17329e6dea03",
   "metadata": {},
   "outputs": [
    {
     "data": {
      "text/plain": [
       "array([[2, 3, 4, 5],\n",
       "       [6, 7, 8, 9]])"
      ]
     },
     "execution_count": 152,
     "metadata": {},
     "output_type": "execute_result"
    }
   ],
   "source": [
    "D = np.arange(2,10).reshape(2, 4)\n",
    "D"
   ]
  },
  {
   "cell_type": "code",
   "execution_count": 153,
   "id": "6ab2185e-0f86-4607-845e-16d2d82b6cab",
   "metadata": {},
   "outputs": [
    {
     "data": {
      "text/plain": [
       "array([[22, 27, 32, 37],\n",
       "       [38, 47, 56, 65],\n",
       "       [54, 67, 80, 93]])"
      ]
     },
     "execution_count": 153,
     "metadata": {},
     "output_type": "execute_result"
    }
   ],
   "source": [
    "np.dot(C,D)"
   ]
  },
  {
   "cell_type": "code",
   "execution_count": 154,
   "id": "7cb6f53a-1a4c-4843-8a2b-5a6c154eb236",
   "metadata": {},
   "outputs": [
    {
     "data": {
      "text/plain": [
       "array([[1, 2],\n",
       "       [4, 5],\n",
       "       [7, 8]])"
      ]
     },
     "execution_count": 154,
     "metadata": {},
     "output_type": "execute_result"
    }
   ],
   "source": [
    "#83# Create a matrix `E` and find its transpose\n",
    "a= np.array([[1, 2], [4, 5], [7, 8]])\n",
    "a"
   ]
  },
  {
   "cell_type": "code",
   "execution_count": 155,
   "id": "cc7e1fab-afc4-4f2d-9160-b0273a411409",
   "metadata": {},
   "outputs": [
    {
     "data": {
      "text/plain": [
       "array([[1, 4, 7],\n",
       "       [2, 5, 8]])"
      ]
     },
     "execution_count": 155,
     "metadata": {},
     "output_type": "execute_result"
    }
   ],
   "source": [
    "a.T"
   ]
  },
  {
   "cell_type": "code",
   "execution_count": 156,
   "id": "6882ae7c-173b-482b-9b9e-218a5b650799",
   "metadata": {},
   "outputs": [
    {
     "name": "stdout",
     "output_type": "stream",
     "text": [
      "-15.999999999999998\n"
     ]
    }
   ],
   "source": [
    " #84# Generate a square matrix `F` and compute its determinant.\n",
    "F= np.array([[6, 1],\n",
    "              [4, -2]])\n",
    "print(np.linalg.det(F))"
   ]
  },
  {
   "cell_type": "code",
   "execution_count": 157,
   "id": "81c2c7dc-c891-47af-a629-a418902a6df2",
   "metadata": {},
   "outputs": [
    {
     "name": "stdout",
     "output_type": "stream",
     "text": [
      "[[ 0.17647059 -0.00326797 -0.02287582]\n",
      " [ 0.05882353 -0.13071895  0.08496732]\n",
      " [-0.11764706  0.1503268   0.05228758]]\n"
     ]
    }
   ],
   "source": [
    "#85#  Create a square matrix `G` and find its inverse.\n",
    "G= np.array([[6, 1, 1],\n",
    "              [4, -2, 5],\n",
    "              [2, 8, 7]])\n",
    "print(np.linalg.inv(G))"
   ]
  },
  {
   "cell_type": "code",
   "execution_count": null,
   "id": "2ead46bc-d43c-410d-8a16-0dfc9ed4a9ea",
   "metadata": {},
   "outputs": [],
   "source": []
  }
 ],
 "metadata": {
  "kernelspec": {
   "display_name": "Python 3 (ipykernel)",
   "language": "python",
   "name": "python3"
  },
  "language_info": {
   "codemirror_mode": {
    "name": "ipython",
    "version": 3
   },
   "file_extension": ".py",
   "mimetype": "text/x-python",
   "name": "python",
   "nbconvert_exporter": "python",
   "pygments_lexer": "ipython3",
   "version": "3.10.8"
  }
 },
 "nbformat": 4,
 "nbformat_minor": 5
}
